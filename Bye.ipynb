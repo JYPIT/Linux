{
  "nbformat": 4,
  "nbformat_minor": 0,
  "metadata": {
    "colab": {
      "name": "Bye.ipynb",
      "provenance": []
    },
    "kernelspec": {
      "name": "python3",
      "display_name": "Python 3"
    },
    "language_info": {
      "name": "python"
    }
  },
  "cells": [
    {
      "cell_type": "code",
      "metadata": {
        "colab": {
          "base_uri": "https://localhost:8080/"
        },
        "id": "PCb4Y4Bo6rI_",
        "outputId": "21c34abf-978a-4a52-82f1-e6cf78dc0b0e"
      },
      "source": [
        "print(\"Goodbye!\")"
      ],
      "execution_count": 2,
      "outputs": [
        {
          "output_type": "stream",
          "text": [
            "Goodbye!\n"
          ],
          "name": "stdout"
        }
      ]
    }
  ]
}